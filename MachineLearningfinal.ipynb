{
  "nbformat": 4,
  "nbformat_minor": 0,
  "metadata": {
    "kernelspec": {
      "display_name": "Python 3",
      "language": "python",
      "name": "python3"
    },
    "language_info": {
      "codemirror_mode": {
        "name": "ipython",
        "version": 3
      },
      "file_extension": ".py",
      "mimetype": "text/x-python",
      "name": "python",
      "nbconvert_exporter": "python",
      "pygments_lexer": "ipython3",
      "version": "3.7.4"
    },
    "colab": {
      "name": "MachineLearningfinal.ipynb",
      "provenance": [],
      "include_colab_link": true
    }
  },
  "cells": [
    {
      "cell_type": "markdown",
      "metadata": {
        "id": "view-in-github",
        "colab_type": "text"
      },
      "source": [
        "<a href=\"https://colab.research.google.com/github/Dilparao/Data-Science/blob/master/MachineLearningfinal.ipynb\" target=\"_parent\"><img src=\"https://colab.research.google.com/assets/colab-badge.svg\" alt=\"Open In Colab\"/></a>"
      ]
    },
    {
      "cell_type": "markdown",
      "metadata": {
        "id": "SNOtCdYtPRqw",
        "colab_type": "text"
      },
      "source": [
        "Importing the libraries"
      ]
    },
    {
      "cell_type": "code",
      "metadata": {
        "id": "2RKqLxX9PRqz",
        "colab_type": "code",
        "colab": {}
      },
      "source": [
        "import warnings\n",
        "warnings.filterwarnings('ignore')\n",
        "import numpy as np\n",
        "import pandas as pd\n",
        "import seaborn as sns\n",
        "import matplotlib.pyplot as plt\n",
        "%matplotlib inline"
      ],
      "execution_count": 0,
      "outputs": []
    },
    {
      "cell_type": "markdown",
      "metadata": {
        "id": "q6g76fFTPRq6",
        "colab_type": "text"
      },
      "source": [
        "IMPORTING THE DATASET FILE ('DATA.CSV') USING PANDAS AND DISPLAYING THE FIRST FIVE ROWS USING"
      ]
    },
    {
      "cell_type": "code",
      "metadata": {
        "id": "M7cVIUuDPRq-",
        "colab_type": "code",
        "colab": {
          "base_uri": "https://localhost:8080/",
          "height": 222
        },
        "outputId": "4d1e3f37-9d94-493a-dc19-5193907bac54"
      },
      "source": [
        "datadf=pd.read_csv('CE802_Ass_2019_Data.csv')\n",
        "datadf.head()\n"
      ],
      "execution_count": 2,
      "outputs": [
        {
          "output_type": "execute_result",
          "data": {
            "text/html": [
              "<div>\n",
              "<style scoped>\n",
              "    .dataframe tbody tr th:only-of-type {\n",
              "        vertical-align: middle;\n",
              "    }\n",
              "\n",
              "    .dataframe tbody tr th {\n",
              "        vertical-align: top;\n",
              "    }\n",
              "\n",
              "    .dataframe thead th {\n",
              "        text-align: right;\n",
              "    }\n",
              "</style>\n",
              "<table border=\"1\" class=\"dataframe\">\n",
              "  <thead>\n",
              "    <tr style=\"text-align: right;\">\n",
              "      <th></th>\n",
              "      <th>F1</th>\n",
              "      <th>F2</th>\n",
              "      <th>F3</th>\n",
              "      <th>F4</th>\n",
              "      <th>F5</th>\n",
              "      <th>F6</th>\n",
              "      <th>F7</th>\n",
              "      <th>F8</th>\n",
              "      <th>F9</th>\n",
              "      <th>F10</th>\n",
              "      <th>F11</th>\n",
              "      <th>F12</th>\n",
              "      <th>F13</th>\n",
              "      <th>F14</th>\n",
              "      <th>F15</th>\n",
              "      <th>F16</th>\n",
              "      <th>F17</th>\n",
              "      <th>F18</th>\n",
              "      <th>F19</th>\n",
              "      <th>F20</th>\n",
              "      <th>Class</th>\n",
              "    </tr>\n",
              "  </thead>\n",
              "  <tbody>\n",
              "    <tr>\n",
              "      <th>0</th>\n",
              "      <td>0</td>\n",
              "      <td>0</td>\n",
              "      <td>16</td>\n",
              "      <td>2.02</td>\n",
              "      <td>0.52</td>\n",
              "      <td>-2.35</td>\n",
              "      <td>-1.98</td>\n",
              "      <td>-0.70</td>\n",
              "      <td>85</td>\n",
              "      <td>6</td>\n",
              "      <td>-2.07</td>\n",
              "      <td>-0.07</td>\n",
              "      <td>1.08</td>\n",
              "      <td>15</td>\n",
              "      <td>-0.63</td>\n",
              "      <td>-3.49</td>\n",
              "      <td>-1.68</td>\n",
              "      <td>0.02</td>\n",
              "      <td>15.3</td>\n",
              "      <td>NaN</td>\n",
              "      <td>True</td>\n",
              "    </tr>\n",
              "    <tr>\n",
              "      <th>1</th>\n",
              "      <td>0</td>\n",
              "      <td>0</td>\n",
              "      <td>86</td>\n",
              "      <td>-0.90</td>\n",
              "      <td>2.75</td>\n",
              "      <td>0.14</td>\n",
              "      <td>0.83</td>\n",
              "      <td>-0.06</td>\n",
              "      <td>107</td>\n",
              "      <td>1</td>\n",
              "      <td>-0.86</td>\n",
              "      <td>0.17</td>\n",
              "      <td>1.06</td>\n",
              "      <td>-8</td>\n",
              "      <td>-1.21</td>\n",
              "      <td>0.34</td>\n",
              "      <td>0.36</td>\n",
              "      <td>0.61</td>\n",
              "      <td>10.1</td>\n",
              "      <td>NaN</td>\n",
              "      <td>True</td>\n",
              "    </tr>\n",
              "    <tr>\n",
              "      <th>2</th>\n",
              "      <td>1</td>\n",
              "      <td>1</td>\n",
              "      <td>165</td>\n",
              "      <td>0.73</td>\n",
              "      <td>1.05</td>\n",
              "      <td>0.10</td>\n",
              "      <td>2.57</td>\n",
              "      <td>-1.65</td>\n",
              "      <td>41</td>\n",
              "      <td>5</td>\n",
              "      <td>0.08</td>\n",
              "      <td>0.04</td>\n",
              "      <td>0.42</td>\n",
              "      <td>-6</td>\n",
              "      <td>-0.46</td>\n",
              "      <td>-0.62</td>\n",
              "      <td>1.67</td>\n",
              "      <td>2.60</td>\n",
              "      <td>11.0</td>\n",
              "      <td>1.55</td>\n",
              "      <td>False</td>\n",
              "    </tr>\n",
              "    <tr>\n",
              "      <th>3</th>\n",
              "      <td>1</td>\n",
              "      <td>1</td>\n",
              "      <td>191</td>\n",
              "      <td>-1.50</td>\n",
              "      <td>0.79</td>\n",
              "      <td>0.33</td>\n",
              "      <td>1.24</td>\n",
              "      <td>1.35</td>\n",
              "      <td>17</td>\n",
              "      <td>2</td>\n",
              "      <td>-0.85</td>\n",
              "      <td>1.74</td>\n",
              "      <td>1.74</td>\n",
              "      <td>15</td>\n",
              "      <td>0.47</td>\n",
              "      <td>0.63</td>\n",
              "      <td>0.08</td>\n",
              "      <td>0.19</td>\n",
              "      <td>6.3</td>\n",
              "      <td>0.95</td>\n",
              "      <td>False</td>\n",
              "    </tr>\n",
              "    <tr>\n",
              "      <th>4</th>\n",
              "      <td>1</td>\n",
              "      <td>1</td>\n",
              "      <td>13</td>\n",
              "      <td>0.25</td>\n",
              "      <td>-1.19</td>\n",
              "      <td>-0.90</td>\n",
              "      <td>2.67</td>\n",
              "      <td>0.22</td>\n",
              "      <td>12</td>\n",
              "      <td>8</td>\n",
              "      <td>0.68</td>\n",
              "      <td>-0.39</td>\n",
              "      <td>1.25</td>\n",
              "      <td>25</td>\n",
              "      <td>-0.09</td>\n",
              "      <td>-2.41</td>\n",
              "      <td>-0.53</td>\n",
              "      <td>-0.77</td>\n",
              "      <td>10.5</td>\n",
              "      <td>NaN</td>\n",
              "      <td>True</td>\n",
              "    </tr>\n",
              "  </tbody>\n",
              "</table>\n",
              "</div>"
            ],
            "text/plain": [
              "   F1  F2   F3    F4    F5    F6  ...   F16   F17   F18   F19   F20  Class\n",
              "0   0   0   16  2.02  0.52 -2.35  ... -3.49 -1.68  0.02  15.3   NaN   True\n",
              "1   0   0   86 -0.90  2.75  0.14  ...  0.34  0.36  0.61  10.1   NaN   True\n",
              "2   1   1  165  0.73  1.05  0.10  ... -0.62  1.67  2.60  11.0  1.55  False\n",
              "3   1   1  191 -1.50  0.79  0.33  ...  0.63  0.08  0.19   6.3  0.95  False\n",
              "4   1   1   13  0.25 -1.19 -0.90  ... -2.41 -0.53 -0.77  10.5   NaN   True\n",
              "\n",
              "[5 rows x 21 columns]"
            ]
          },
          "metadata": {
            "tags": []
          },
          "execution_count": 2
        }
      ]
    },
    {
      "cell_type": "code",
      "metadata": {
        "id": "mye4izOlPRrF",
        "colab_type": "code",
        "colab": {}
      },
      "source": [
        "#CALCULATING THE TOTAL NA VALUES AND IT ALL BELONGS TO THE F20 COLUMN"
      ],
      "execution_count": 0,
      "outputs": []
    },
    {
      "cell_type": "code",
      "metadata": {
        "id": "-H2uulukPRrL",
        "colab_type": "code",
        "colab": {
          "base_uri": "https://localhost:8080/",
          "height": 399
        },
        "outputId": "4ea9b167-45a0-4437-c220-9100386966be"
      },
      "source": [
        "datadf.isna().sum()"
      ],
      "execution_count": 4,
      "outputs": [
        {
          "output_type": "execute_result",
          "data": {
            "text/plain": [
              "F1         0\n",
              "F2         0\n",
              "F3         0\n",
              "F4         0\n",
              "F5         0\n",
              "F6         0\n",
              "F7         0\n",
              "F8         0\n",
              "F9         0\n",
              "F10        0\n",
              "F11        0\n",
              "F12        0\n",
              "F13        0\n",
              "F14        0\n",
              "F15        0\n",
              "F16        0\n",
              "F17        0\n",
              "F18        0\n",
              "F19        0\n",
              "F20      172\n",
              "Class      0\n",
              "dtype: int64"
            ]
          },
          "metadata": {
            "tags": []
          },
          "execution_count": 4
        }
      ]
    },
    {
      "cell_type": "code",
      "metadata": {
        "id": "rKEXeiLpPRrT",
        "colab_type": "code",
        "colab": {
          "base_uri": "https://localhost:8080/",
          "height": 263
        },
        "outputId": "e5437517-4ca9-4086-e063-051ff2a3b8ac"
      },
      "source": [
        "! pip install pandas-profiling"
      ],
      "execution_count": 5,
      "outputs": [
        {
          "output_type": "stream",
          "text": [
            "Requirement already satisfied: pandas-profiling in /usr/local/lib/python3.6/dist-packages (1.4.1)\n",
            "Requirement already satisfied: jinja2>=2.8 in /usr/local/lib/python3.6/dist-packages (from pandas-profiling) (2.11.1)\n",
            "Requirement already satisfied: matplotlib>=1.4 in /usr/local/lib/python3.6/dist-packages (from pandas-profiling) (3.1.3)\n",
            "Requirement already satisfied: pandas>=0.19 in /usr/local/lib/python3.6/dist-packages (from pandas-profiling) (0.25.3)\n",
            "Requirement already satisfied: six>=1.9 in /usr/local/lib/python3.6/dist-packages (from pandas-profiling) (1.12.0)\n",
            "Requirement already satisfied: MarkupSafe>=0.23 in /usr/local/lib/python3.6/dist-packages (from jinja2>=2.8->pandas-profiling) (1.1.1)\n",
            "Requirement already satisfied: kiwisolver>=1.0.1 in /usr/local/lib/python3.6/dist-packages (from matplotlib>=1.4->pandas-profiling) (1.1.0)\n",
            "Requirement already satisfied: pyparsing!=2.0.4,!=2.1.2,!=2.1.6,>=2.0.1 in /usr/local/lib/python3.6/dist-packages (from matplotlib>=1.4->pandas-profiling) (2.4.6)\n",
            "Requirement already satisfied: numpy>=1.11 in /usr/local/lib/python3.6/dist-packages (from matplotlib>=1.4->pandas-profiling) (1.17.5)\n",
            "Requirement already satisfied: python-dateutil>=2.1 in /usr/local/lib/python3.6/dist-packages (from matplotlib>=1.4->pandas-profiling) (2.6.1)\n",
            "Requirement already satisfied: cycler>=0.10 in /usr/local/lib/python3.6/dist-packages (from matplotlib>=1.4->pandas-profiling) (0.10.0)\n",
            "Requirement already satisfied: pytz>=2017.2 in /usr/local/lib/python3.6/dist-packages (from pandas>=0.19->pandas-profiling) (2018.9)\n",
            "Requirement already satisfied: setuptools in /usr/local/lib/python3.6/dist-packages (from kiwisolver>=1.0.1->matplotlib>=1.4->pandas-profiling) (45.1.0)\n"
          ],
          "name": "stdout"
        }
      ]
    },
    {
      "cell_type": "code",
      "metadata": {
        "id": "HU639Hs4PRrb",
        "colab_type": "code",
        "colab": {}
      },
      "source": [
        "import pandas_profiling as pdp\n",
        "%matplotlib inline"
      ],
      "execution_count": 0,
      "outputs": []
    },
    {
      "cell_type": "code",
      "metadata": {
        "collapsed": true,
        "id": "4K__mKYlPRri",
        "colab_type": "code",
        "colab": {}
      },
      "source": [
        "report = pdp.ProfileReport(datadf,title='Pandas Profiling Report')\n"
      ],
      "execution_count": 0,
      "outputs": []
    },
    {
      "cell_type": "markdown",
      "metadata": {
        "id": "vPKYMTnhPRrn",
        "colab_type": "text"
      },
      "source": [
        "DOING THE IMPUTATION OF THE F20 COLUMN USING MEDIAN"
      ]
    },
    {
      "cell_type": "code",
      "metadata": {
        "id": "zD_z7tWEPRrp",
        "colab_type": "code",
        "colab": {}
      },
      "source": [
        "datadf=round(datadf.fillna(datadf['F20'].median()),2)\n",
        "datadf.head()"
      ],
      "execution_count": 0,
      "outputs": []
    },
    {
      "cell_type": "markdown",
      "metadata": {
        "id": "FuQLXJYoPRrv",
        "colab_type": "text"
      },
      "source": [
        "CALCULATING THE MODE OF F20 COLUMN AND SINCE ITS A NEGATIVE VALUE NOT DOING ITS IMPUTATION"
      ]
    },
    {
      "cell_type": "code",
      "metadata": {
        "id": "ZdcmzObXPRr0",
        "colab_type": "code",
        "colab": {}
      },
      "source": [
        "datadf=pd.read_csv('CE802_Ass_2019_Data.csv')\n",
        "datadf['F20'].mode()"
      ],
      "execution_count": 0,
      "outputs": []
    },
    {
      "cell_type": "markdown",
      "metadata": {
        "id": "aQBxNQ6RPRr-",
        "colab_type": "text"
      },
      "source": [
        "FINALLY DOING THE IMPUTATION OF THE F20 COLUMN USING THE MEAN() AND USING THIS AS THE FINAL DATASET TO DO PREDICTIONS."
      ]
    },
    {
      "cell_type": "markdown",
      "metadata": {
        "id": "5sL6TeOKPRsA",
        "colab_type": "text"
      },
      "source": [
        "SEPARATING THE TARGETS AND THE LABELS INTO X,Y. ALL THE COLUMNS TILL F20 GOES IN X AND ONLY THE CLASS COLUMN IS IN Y."
      ]
    },
    {
      "cell_type": "code",
      "metadata": {
        "id": "chB1PWrYPRsB",
        "colab_type": "code",
        "colab": {}
      },
      "source": [
        "datadf=pd.read_csv('CE802_Ass_2019_Data.csv')\n",
        "datadf=datadf.fillna(datadf['F20'].mean())\n",
        "x=datadf.iloc[:,datadf.columns!='Class'].values\n",
        "y= datadf.iloc[:,20].values"
      ],
      "execution_count": 0,
      "outputs": []
    },
    {
      "cell_type": "markdown",
      "metadata": {
        "id": "HXuDf1iaPRsG",
        "colab_type": "text"
      },
      "source": [
        "IMPORTING THE DIFFERENT LIBRARIES FROM SKLEARN FOR BUILDING THE CLASSIFIER MODEL AND USING THE TEST_TRAIN_SPLIT FUNCTION TO\n"
      ]
    },
    {
      "cell_type": "markdown",
      "metadata": {
        "id": "QTWzGUIsPRsI",
        "colab_type": "text"
      },
      "source": [
        "DIVIDE THE DATA INTO TRAINING SET AND TESTING SET FOR 75% AND 25% AND USING THE STRATIFY ."
      ]
    },
    {
      "cell_type": "code",
      "metadata": {
        "id": "vhLCXJWYPRsJ",
        "colab_type": "code",
        "colab": {}
      },
      "source": [
        "from sklearn.model_selection import train_test_split, StratifiedKFold\n",
        "from sklearn.neighbors import KNeighborsClassifier\n",
        "from sklearn.preprocessing import StandardScaler\n",
        "from sklearn.tree import DecisionTreeClassifier\n",
        "from sklearn.ensemble import RandomForestClassifier\n",
        "from sklearn.svm import SVC\n",
        "import sklearn.model_selection as model_selection\n",
        "from sklearn.model_selection import cross_validate\n",
        "from sklearn.model_selection import train_test_split\n",
        "from sklearn.model_selection import GridSearchCV, cross_val_score\n",
        "from sklearn import metrics\n",
        "from sklearn.metrics import accuracy_score\n",
        "X_train, X_test, y_train, y_test = train_test_split(x, y, test_size=0.25,random_state=160,stratify=y)\n"
      ],
      "execution_count": 0,
      "outputs": []
    },
    {
      "cell_type": "markdown",
      "metadata": {
        "id": "2desNajLPRsP",
        "colab_type": "text"
      },
      "source": [
        "USING THE STANDARD SCALER FUNCTION TO SCALE THE DATA BUT SINCE THE DATA IS NOT SO WIDELY DISTRIBUTED NOT USING IT ."
      ]
    },
    {
      "cell_type": "code",
      "metadata": {
        "id": "Xh07GWkpPRsQ",
        "colab_type": "code",
        "colab": {}
      },
      "source": [
        "scaler = StandardScaler()\n",
        "X_train = scaler.fit_transform(X_train)\n",
        "X_test = scaler.transform(X_test)"
      ],
      "execution_count": 0,
      "outputs": []
    },
    {
      "cell_type": "markdown",
      "metadata": {
        "id": "yfhXxXEnPRsX",
        "colab_type": "text"
      },
      "source": [
        "CALCULATING THE BEST PARAMETERS FOR DECISION TREE USING THE GRID SEARCH AND DOING 5 FOLD CROSS VALIDATION"
      ]
    },
    {
      "cell_type": "code",
      "metadata": {
        "id": "-ZhuBfQwPRsb",
        "colab_type": "code",
        "colab": {}
      },
      "source": [
        "parameters_dt = {'criterion':('gini', 'entropy'),\n",
        "'max_depth':[3,4,5,6],\n",
        "'class_weight':('balanced', None),\n",
        "'presort':(False,True),\n",
        "}\n",
        "dt = DecisionTreeClassifier()\n",
        "clf_dt = GridSearchCV(dt, parameters_dt,cv = 5, scoring = 'accuracy')\n",
        "clf_dt1=clf_dt.fit(X_train, y_train)\n",
        "def display(results):\n",
        "    print(f'the best results are :{results.best_params_}')\n",
        "display(clf_dt)\n",
        "dt_pred=clf_dt1.predict(X_test)\n",
        "accuracy_score(y_test,dt_pred)"
      ],
      "execution_count": 0,
      "outputs": []
    },
    {
      "cell_type": "markdown",
      "metadata": {
        "id": "Rt1Hg_GtPRsh",
        "colab_type": "text"
      },
      "source": [
        "USING THE BEST PARAMETERS :{'class_weight': None, 'criterion': 'entropy', \n",
        "                            'max_depth': 3, 'presort': True}\n",
        "AND MAKING A MODEL WITH 56.8% ACCURACY"
      ]
    },
    {
      "cell_type": "code",
      "metadata": {
        "id": "M7rKMag8PRsj",
        "colab_type": "code",
        "colab": {}
      },
      "source": [
        "tree = DecisionTreeClassifier(max_depth=3,criterion='entropy',presort= True,random_state=160)\n",
        "clf_dt=tree.fit(X_train, y_train)\n",
        "dt_pred = clf_dt.predict(X_test)\n",
        "dt_pred\n",
        "accuracy_dt=accuracy_score(y_test, dt_pred)*100\n",
        "print(\"Accuracy with Pruned Decision Tree Classifier :\"+ str(accuracy_dt)+\" %\")\n",
        "metrics.cohen_kappa_score(dt_pred,y_test)"
      ],
      "execution_count": 0,
      "outputs": []
    },
    {
      "cell_type": "markdown",
      "metadata": {
        "id": "LfUfSD-QPRsn",
        "colab_type": "text"
      },
      "source": [
        "LOADING THE CE802_ASS_2019_TEST DATA AND IMPUTING ITS F20 COLUMN WITH THE MEAN AND THEN USING THE DECISION TREE MODEL TO FILL\n",
        "COLUMN CLASS WITH THE VALUES OF FAKE NEWS TRUE AND FALSE"
      ]
    },
    {
      "cell_type": "code",
      "metadata": {
        "id": "iOckXxjdPRsp",
        "colab_type": "code",
        "colab": {}
      },
      "source": [
        "test_data=pd.read_csv('CE802_Ass_2019_Test.csv')\n",
        "f20_mean=test_data['F20'].mean()\n",
        "test_data['F20'].fillna(f20_mean,inplace=True)\n",
        "X_final=test_data.iloc[:,0:20].values\n",
        "y_final=test_data.iloc[:,20].values\n",
        "dt_y_final=clf_dt.predict(X_final)\n",
        "dt_y_final\n",
        "test_data['Class']=dt_y_final\n",
        "test_data.to_csv(\"dt_test.csv\")"
      ],
      "execution_count": 0,
      "outputs": []
    },
    {
      "cell_type": "markdown",
      "metadata": {
        "id": "iyHx3riSPRsu",
        "colab_type": "text"
      },
      "source": [
        "CALCULATING THE BEST PARAMETER FOR THE SUPPORT VECTOR MACHINE WITH KERNEL USING THE GRIDSEARCHCV AND USING THE MODEL"
      ]
    },
    {
      "cell_type": "code",
      "metadata": {
        "id": "KvU6s2qZPRsv",
        "colab_type": "code",
        "colab": {}
      },
      "source": [
        "svm = SVC()\n",
        "parameters_svm =parameters = {\n",
        "\"kernel\": [\"linear\",\"rbf\"], 'gamma':['auto'],\n",
        "\"C\":[0.1,1,10]\n",
        "}\n",
        "clf_svm=GridSearchCV(svm, parameters_svm,cv = 5, scoring = 'accuracy')\n",
        "clf_svm1=clf_svm.fit(X_train, y_train)\n",
        "def display(results):\n",
        "    print(f'the best results are :{results.best_params_}')\n",
        "display(clf_svm)\n",
        "svm_pred=clf_svm1.predict(X_test)\n",
        "accuracy_score(y_test,svm_pred)"
      ],
      "execution_count": 0,
      "outputs": []
    },
    {
      "cell_type": "markdown",
      "metadata": {
        "id": "XI3mYySaPRs1",
        "colab_type": "text"
      },
      "source": [
        "USING THE SVM WITH :{'C': 10, 'gamma': 'auto', 'kernel': 'rbf'} PARAMETERS GIVE AN ACCURACY OF 74.4%"
      ]
    },
    {
      "cell_type": "code",
      "metadata": {
        "id": "Pf5pJG1oPRs2",
        "colab_type": "code",
        "colab": {}
      },
      "source": [
        "svc=SVC(gamma='auto',kernel='rbf',C=10)\n",
        "svm=svc.fit(X_train,y_train)\n",
        "svm_pred=svm.predict(X_test)\n",
        "accuracy_svm=accuracy_score(y_test,svm_pred)*100\n",
        "print(\"Accuracy with Support Vector Machine with Kernel :\"+ str(accuracy_svm)+\" %\")\n",
        "metrics.cohen_kappa_score(svm_pred,y_test)"
      ],
      "execution_count": 0,
      "outputs": []
    },
    {
      "cell_type": "markdown",
      "metadata": {
        "id": "QxgLhTc3PRs8",
        "colab_type": "text"
      },
      "source": [
        "LOADING THE CE802_ASS_2019_TEST DATA AND IMPUTING ITS F20 COLUMN WITH THE MEAN AND THEN USING THE SUPPORT VECTOR KERNEL MODEL TO FILL\n",
        "TO FILL THE COLUMN CLASS WITH THE VALUES OF FAKE NEWS TRUE AND FALSE USING THE"
      ]
    },
    {
      "cell_type": "code",
      "metadata": {
        "id": "lfpkQdvyPRs9",
        "colab_type": "code",
        "colab": {}
      },
      "source": [
        "test_data=pd.read_csv('CE802_Ass_2019_Test.csv')\n",
        "f20_mean=test_data['F20'].mean()\n",
        "test_data['F20'].fillna(f20_mean,inplace=True)\n",
        "X_final=test_data.iloc[:,0:20].values\n",
        "y_final=test_data.iloc[:,20].values\n",
        "svm_y_final=svm.predict(X_final)\n",
        "svm_y_final\n",
        "test_data['Class']=svm_y_final\n",
        "test_data.to_csv(\"svm_test.csv\")"
      ],
      "execution_count": 0,
      "outputs": []
    },
    {
      "cell_type": "markdown",
      "metadata": {
        "id": "_wFLUic7PRtC",
        "colab_type": "text"
      },
      "source": [
        "CALCULATING THE BEST PARAMETER FOR THE RANDOM FOREST CLASSIFIER USING THE GRIDSEARCHCV AND USING THE MODEL"
      ]
    },
    {
      "cell_type": "code",
      "metadata": {
        "id": "IZOlSOxnPRtE",
        "colab_type": "code",
        "colab": {}
      },
      "source": [
        "rf = RandomForestClassifier()\n",
        "\n",
        "parameters_rf = {'n_estimators': [100,50], 'max_features': ['auto'],\n",
        "                 'n_jobs': [-1], 'min_samples_leaf': [2,4,], 'random_state':[160],\n",
        "                 'min_samples_split':[2,6,], 'oob_score': [True,False],\n",
        "                 'criterion': ['gini'], 'warm_start': [True,False]}\n",
        "\n",
        "clf_rf=GridSearchCV(rf, parameters_rf,cv = 5, scoring = 'accuracy')\n",
        "clf_rf1=clf_rf.fit(X_train, y_train)\n",
        "\n",
        "def display(results):\n",
        "    print(f'the best results are :{results.best_params_}')    \n",
        "display(clf_rf)\n",
        "\n",
        "rf_pred=clf_rf1.predict(X_test)\n",
        "accuracy_score(y_test,rf_pred)"
      ],
      "execution_count": 0,
      "outputs": []
    },
    {
      "cell_type": "markdown",
      "metadata": {
        "id": "TNdXZQvePRtK",
        "colab_type": "text"
      },
      "source": [
        "USING THE RANDOM FOREST CLASSIFIER WITH:{'criterion': 'gini', 'max_features': 'auto', 'min_samples_leaf': 2,min_samples_split': 6, 'n_estimators': 100, 'n_jobs': -1, 'oob_score': True, 'random_state': 160, 'warm_start': True}\n",
        "PARAMETERS GIVE AN ACCURACY OF 58.4%"
      ]
    },
    {
      "cell_type": "code",
      "metadata": {
        "id": "LuIfkw_8PRtL",
        "colab_type": "code",
        "colab": {}
      },
      "source": [
        "rf=RandomForestClassifier(criterion= \"gini\",max_features=\"auto\", min_samples_leaf= 2, min_samples_split=6, n_estimators=100, n_jobs=-1, oob_score= True, random_state= 160, warm_start= True)\n",
        "rf1=rf.fit(X_train,y_train)\n",
        "rf_pred=rf1.predict(X_test)\n",
        "accuracy_rf=accuracy_score(y_test,rf_pred)*100\n",
        "print(\"Accuracy with Random Forest Classifier :\"+ str(accuracy_rf)+\" %\")\n",
        "metrics.cohen_kappa_score(rf_pred,y_test)\n"
      ],
      "execution_count": 0,
      "outputs": []
    },
    {
      "cell_type": "markdown",
      "metadata": {
        "id": "DE56f5XpPRtS",
        "colab_type": "text"
      },
      "source": [
        "LOADING THE CE802_ASS_2019_TEST DATA AND IMPUTING ITS F20 COLUMN WITH THE MEAN AND THEN USING THE RANDOM FOREST CLASSIFIER MODEL TO FILL COLUMN CLASS WITH THE VALUES OF FAKE NEWS TRUE AND FALSE AND USING THE RF1 MODEL."
      ]
    },
    {
      "cell_type": "code",
      "metadata": {
        "id": "p4TSNaUdPRtV",
        "colab_type": "code",
        "colab": {}
      },
      "source": [
        "test_data=pd.read_csv('CE802_Ass_2019_Test.csv')\n",
        "f20_mean=test_data['F20'].mean()\n",
        "test_data['F20'].fillna(f20_mean,inplace=True)\n",
        "X_final=test_data.iloc[:,0:20].values\n",
        "y_final=test_data.iloc[:,20].values\n",
        "rf_y_final=rf1.predict(X_final)\n",
        "rf_y_final\n",
        "test_data['Class']=rf_y_final\n",
        "test_data.to_csv(\"rf_test.csv\")"
      ],
      "execution_count": 0,
      "outputs": []
    },
    {
      "cell_type": "markdown",
      "metadata": {
        "id": "uQ6C3Q1bPRtb",
        "colab_type": "text"
      },
      "source": [
        "USING THE K NEAREST NEIGHBOR CLASSIFIER AND FINDING THE BEST VALUE OF K FROM 1 TO 15 appending the values of the testing accuracy of the model prediction knn for the values of k from 1 to 16 in the scores list."
      ]
    },
    {
      "cell_type": "code",
      "metadata": {
        "id": "PW6Y4UR7PRtd",
        "colab_type": "code",
        "colab": {}
      },
      "source": [
        "k_range=range(1,16)\n",
        "scores=[]\n",
        "for k in k_range:\n",
        "    knn=KNeighborsClassifier(n_neighbors=k)\n",
        "    knn.fit(X_train,y_train)\n",
        "    knn_pred=knn.predict(X_test)\n",
        "    scores.append(metrics.accuracy_score(y_test,knn_pred))\n",
        "print(scores)"
      ],
      "execution_count": 0,
      "outputs": []
    },
    {
      "cell_type": "code",
      "metadata": {
        "id": "nvw1P-nWPRti",
        "colab_type": "code",
        "colab": {}
      },
      "source": [
        "The graph clearly shows the highest value of accuracy is 66% when k=5"
      ],
      "execution_count": 0,
      "outputs": []
    },
    {
      "cell_type": "code",
      "metadata": {
        "id": "eXB-VE-GPRtl",
        "colab_type": "code",
        "colab": {}
      },
      "source": [
        "plt.plot(k_range,scores)\n",
        "plt.xlabel('Values of k for KNN')\n",
        "plt.ylabel('Testing Accuracy')"
      ],
      "execution_count": 0,
      "outputs": []
    },
    {
      "cell_type": "markdown",
      "metadata": {
        "id": "nupjvin6PRtq",
        "colab_type": "text"
      },
      "source": [
        "THE NEAREST NEIGHBOR IS 14 AND SCORE IS 69.6% USING THE K NEAREST 14 NEIGHBOR ON THE TESTING SET AND GETTING THE ACCURACY 69.6%"
      ]
    },
    {
      "cell_type": "code",
      "metadata": {
        "id": "VVDqjRjLPRtr",
        "colab_type": "code",
        "colab": {}
      },
      "source": [
        "clf_knn= KNeighborsClassifier(5)\n",
        "clf_knn=clf_knn.fit(X_train,y_train)\n",
        "knn_pred=clf_knn.predict(X_test)\n",
        "accuracy_knn=round(accuracy_score(y_test,knn_pred)*100,2)\n",
        "print(\"Accuracy with K :\"+ str(accuracy_knn)+\" %\")\n",
        "metrics.cohen_kappa_score(knn_pred,y_test)\n"
      ],
      "execution_count": 0,
      "outputs": []
    },
    {
      "cell_type": "markdown",
      "metadata": {
        "id": "YhpCu4A1PRtz",
        "colab_type": "text"
      },
      "source": [
        "LOADING THE CE802_ASS_2019_TEST DATA AND IMPUTING ITS F20 COLUMN WITH THE MEAN AND THEN USING THE K NEAREST NEIGHBOR CLASSIFIER MODEL TO FILL COLUMN CLASS WITH THE VALUES OF FAKE NEWS TRUE AND FALSE AND USING THE clf_knn MODEL"
      ]
    },
    {
      "cell_type": "code",
      "metadata": {
        "id": "mwXogjC_PRt2",
        "colab_type": "code",
        "colab": {}
      },
      "source": [
        "test_data=pd.read_csv('CE802_Ass_2019_Test.csv')\n",
        "f20_mean=test_data['F20'].mean()\n",
        "test_data['F20'].fillna(f20_mean,inplace=True)\n",
        "X_final=test_data.iloc[:,0:20].values\n",
        "y_final=test_data.iloc[:,20].values\n",
        "knn_y_final=clf_knn.predict(X_final)\n",
        "knn_y_final\n",
        "test_data['Class']=knn_y_final\n",
        "test_data.to_csv(\"knn_test.csv\")"
      ],
      "execution_count": 0,
      "outputs": []
    },
    {
      "cell_type": "markdown",
      "metadata": {
        "id": "HD3Kf-kbPRt6",
        "colab_type": "text"
      },
      "source": [
        "Comparison of all the classifiers used, using Kfold=5 times"
      ]
    },
    {
      "cell_type": "code",
      "metadata": {
        "id": "vl3kPafIPRt8",
        "colab_type": "code",
        "colab": {}
      },
      "source": [
        "Classifiers=('Decision Tree','Support Vector Machines(Kernel)','Random Forest','K Nearest Neighbor')\n",
        "scores = []\n",
        "models = [clf_dt,svm,rf1,clf_knn]\n",
        "for model in models:\n",
        "    score = cross_val_score(model, X_train, y_train, scoring = 'accuracy', cv = 5, n_jobs = -1).mean()\n",
        "    scores.append(score)\n"
      ],
      "execution_count": 0,
      "outputs": []
    },
    {
      "cell_type": "code",
      "metadata": {
        "id": "xPWo-phNPRuA",
        "colab_type": "code",
        "colab": {}
      },
      "source": [
        "mode = pd.DataFrame(scores, index = Classifiers, columns = ['score']).sort_values(by = 'score',\n",
        "ascending = False)\n",
        "mode\n",
        "\n",
        "\n",
        "\n"
      ],
      "execution_count": 0,
      "outputs": []
    },
    {
      "cell_type": "code",
      "metadata": {
        "id": "PAYh731SPRuE",
        "colab_type": "code",
        "colab": {}
      },
      "source": [
        ""
      ],
      "execution_count": 0,
      "outputs": []
    }
  ]
}